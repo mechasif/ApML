{
 "cells": [
  {
   "cell_type": "code",
   "execution_count": 5,
   "metadata": {},
   "outputs": [],
   "source": [
    "import cv2\n",
    "import tensorflow as tf\n",
    "import numpy as np\n",
    "from sklearn.model_selection import train_test_split\n",
    "import tf2onnx\n",
    "import pickle"
   ]
  },
  {
   "cell_type": "code",
   "execution_count": 6,
   "metadata": {},
   "outputs": [
    {
     "name": "stdout",
     "output_type": "stream",
     "text": [
      "Found 512 files belonging to 2 classes.\n"
     ]
    },
    {
     "name": "stderr",
     "output_type": "stream",
     "text": [
      "2023-11-22 17:17:59.572564: W tensorflow/compiler/xla/stream_executor/platform/default/dso_loader.cc:64] Could not load dynamic library 'libcuda.so.1'; dlerror: libcuda.so.1: cannot open shared object file: No such file or directory; LD_LIBRARY_PATH: /home/asif/Documents/GitHub/ApML/Lab3/.venv/lib/python3.7/site-packages/cv2/../../lib64:\n",
      "2023-11-22 17:17:59.572664: W tensorflow/compiler/xla/stream_executor/cuda/cuda_driver.cc:265] failed call to cuInit: UNKNOWN ERROR (303)\n",
      "2023-11-22 17:17:59.572705: I tensorflow/compiler/xla/stream_executor/cuda/cuda_diagnostics.cc:156] kernel driver does not appear to be running on this host (ubuntu-asif): /proc/driver/nvidia/version does not exist\n",
      "2023-11-22 17:17:59.573691: I tensorflow/core/platform/cpu_feature_guard.cc:193] This TensorFlow binary is optimized with oneAPI Deep Neural Network Library (oneDNN) to use the following CPU instructions in performance-critical operations:  AVX2 FMA\n",
      "To enable them in other operations, rebuild TensorFlow with the appropriate compiler flags.\n"
     ]
    }
   ],
   "source": [
    "dataset = tf.keras.utils.image_dataset_from_directory(\"Dataset/\", batch_size=512, image_size=(120,120), shuffle=False)"
   ]
  },
  {
   "cell_type": "code",
   "execution_count": 7,
   "metadata": {},
   "outputs": [],
   "source": [
    "x = np.asarray(list(dataset.as_numpy_iterator())[0][0])/255\n",
    "y = np.asarray(tf.one_hot(list(dataset.as_numpy_iterator())[0][1],depth=2))"
   ]
  },
  {
   "cell_type": "code",
   "execution_count": 8,
   "metadata": {},
   "outputs": [],
   "source": [
    "x_train, x_test, y_train, y_test = train_test_split(x,y,train_size=0.7,shuffle=True)"
   ]
  },
  {
   "cell_type": "code",
   "execution_count": 9,
   "metadata": {},
   "outputs": [],
   "source": [
    "M1 = tf.keras.models.Sequential([\n",
    "    tf.keras.layers.Conv2D(48, 6, strides=(4, 4), input_shape=(120, 120, 3)),\n",
    "    tf.keras.layers.MaxPool2D(pool_size=(3, 3), strides=(2, 2)),\n",
    "    tf.keras.layers.Conv2D(64, 5, padding='same'),\n",
    "    tf.keras.layers.MaxPool2D(pool_size=(3, 3), strides=(2, 2)),\n",
    "    tf.keras.layers.Conv2D(64, 3, padding='same'),\n",
    "    tf.keras.layers.Conv2D(64, 3, padding='same'),\n",
    "    tf.keras.layers.Conv2D(64, 3, padding='same'),\n",
    "    tf.keras.layers.MaxPool2D(pool_size=(3, 3), strides=(2, 2)),\n",
    "    tf.keras.layers.Flatten(),\n",
    "    tf.keras.layers.Dense(64, 'relu'),\n",
    "    tf.keras.layers.Dense(64, 'relu'),\n",
    "    tf.keras.layers.Dense(2, 'sigmoid')\n",
    "])"
   ]
  },
  {
   "cell_type": "code",
   "execution_count": 10,
   "metadata": {},
   "outputs": [],
   "source": [
    "M1.compile(optimizer='adam', loss='binary_crossentropy', metrics=['accuracy'])"
   ]
  },
  {
   "cell_type": "code",
   "execution_count": 11,
   "metadata": {},
   "outputs": [
    {
     "name": "stdout",
     "output_type": "stream",
     "text": [
      "Epoch 1/10\n",
      "12/12 [==============================] - 12s 278ms/step - loss: 0.4965 - accuracy: 0.7709\n",
      "Epoch 2/10\n",
      "12/12 [==============================] - 3s 262ms/step - loss: 0.3180 - accuracy: 0.9134\n",
      "Epoch 3/10\n",
      "12/12 [==============================] - 3s 207ms/step - loss: 0.0117 - accuracy: 0.9972\n",
      "Epoch 4/10\n",
      "12/12 [==============================] - 3s 217ms/step - loss: 0.0076 - accuracy: 0.9972\n",
      "Epoch 5/10\n",
      "12/12 [==============================] - 3s 231ms/step - loss: 0.0463 - accuracy: 0.9860\n",
      "Epoch 6/10\n",
      "12/12 [==============================] - 3s 259ms/step - loss: 0.0235 - accuracy: 0.9916\n",
      "Epoch 7/10\n",
      "12/12 [==============================] - 3s 222ms/step - loss: 0.0039 - accuracy: 1.0000\n",
      "Epoch 8/10\n",
      "12/12 [==============================] - 3s 222ms/step - loss: 9.5340e-04 - accuracy: 1.0000\n",
      "Epoch 9/10\n",
      "12/12 [==============================] - 3s 239ms/step - loss: 2.6161e-04 - accuracy: 1.0000\n",
      "Epoch 10/10\n",
      "12/12 [==============================] - 3s 253ms/step - loss: 2.1458e-04 - accuracy: 1.0000\n"
     ]
    },
    {
     "data": {
      "text/plain": [
       "<keras.callbacks.History at 0x7f3f1b2a58d0>"
      ]
     },
     "execution_count": 11,
     "metadata": {},
     "output_type": "execute_result"
    }
   ],
   "source": [
    "M1.fit(x_train, y_train, epochs=10)"
   ]
  },
  {
   "cell_type": "code",
   "execution_count": 12,
   "metadata": {},
   "outputs": [
    {
     "name": "stdout",
     "output_type": "stream",
     "text": [
      "5/5 [==============================] - 1s 70ms/step - loss: 5.6802e-05 - accuracy: 1.0000\n"
     ]
    },
    {
     "data": {
      "text/plain": [
       "[5.680219692294486e-05, 1.0]"
      ]
     },
     "execution_count": 12,
     "metadata": {},
     "output_type": "execute_result"
    }
   ],
   "source": [
    "M1.evaluate(x_test, y_test)"
   ]
  },
  {
   "cell_type": "code",
   "execution_count": 13,
   "metadata": {},
   "outputs": [],
   "source": [
    "with open(\"dset.pickle\", \"wb\") as f:\n",
    "    pickle.dump((x, y), f)"
   ]
  },
  {
   "cell_type": "code",
   "execution_count": 14,
   "metadata": {},
   "outputs": [
    {
     "name": "stderr",
     "output_type": "stream",
     "text": [
      "2023-11-22 17:19:34.624232: I tensorflow/core/grappler/clusters/single_machine.cc:358] Starting new session\n",
      "2023-11-22 17:19:34.886374: I tensorflow/core/grappler/clusters/single_machine.cc:358] Starting new session\n"
     ]
    }
   ],
   "source": [
    "spec = (tf.TensorSpec((None, 120, 120, 3), tf.float32, name=\"input\"),)\n",
    "output_path = \"M1.onnx\"\n",
    "model_proto, _ = tf2onnx.convert.from_keras(M1, input_signature=spec, opset=13, output_path=output_path)"
   ]
  },
  {
   "cell_type": "code",
   "execution_count": null,
   "metadata": {},
   "outputs": [],
   "source": []
  }
 ],
 "metadata": {
  "kernelspec": {
   "display_name": ".venv",
   "language": "python",
   "name": "python3"
  },
  "language_info": {
   "codemirror_mode": {
    "name": "ipython",
    "version": 3
   },
   "file_extension": ".py",
   "mimetype": "text/x-python",
   "name": "python",
   "nbconvert_exporter": "python",
   "pygments_lexer": "ipython3",
   "version": "3.7.9"
  }
 },
 "nbformat": 4,
 "nbformat_minor": 2
}
